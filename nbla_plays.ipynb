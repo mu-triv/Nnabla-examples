{
 "cells": [
  {
   "cell_type": "markdown",
   "metadata": {},
   "source": [
    "# Simple CNN"
   ]
  },
  {
   "cell_type": "code",
   "execution_count": 2,
   "metadata": {
    "scrolled": true
   },
   "outputs": [
    {
     "name": "stderr",
     "output_type": "stream",
     "text": [
      "2020-04-23 13:55:21,980 [nnabla][INFO]: Initializing CPU extension...\n",
      "2020-04-23 13:55:23,088 [nnabla][INFO]: Calling the `.data` getter property in this `NdArray` is creating an array with a default data type because the array is not previously initialized by requesting a specific data type, or is not used after calling `zero()` or `fill(value)`.\n"
     ]
    },
    {
     "name": "stdout",
     "output_type": "stream",
     "text": [
      "******* forward *******\n",
      "[[[[0. 0. 0.]\n",
      "   [0. 0. 0.]\n",
      "   [0. 0. 0.]]\n",
      "\n",
      "  [[0. 0. 0.]\n",
      "   [0. 0. 0.]\n",
      "   [0. 0. 0.]]\n",
      "\n",
      "  [[0. 0. 0.]\n",
      "   [0. 0. 0.]\n",
      "   [0. 0. 0.]]]\n",
      "\n",
      "\n",
      " [[[0. 0. 0.]\n",
      "   [0. 0. 0.]\n",
      "   [0. 0. 0.]]\n",
      "\n",
      "  [[0. 0. 0.]\n",
      "   [0. 0. 0.]\n",
      "   [0. 0. 0.]]\n",
      "\n",
      "  [[0. 0. 0.]\n",
      "   [0. 0. 0.]\n",
      "   [0. 0. 0.]]]\n",
      "\n",
      "\n",
      " [[[0. 0. 0.]\n",
      "   [0. 0. 0.]\n",
      "   [0. 0. 0.]]\n",
      "\n",
      "  [[0. 0. 0.]\n",
      "   [0. 0. 0.]\n",
      "   [0. 0. 0.]]\n",
      "\n",
      "  [[0. 0. 0.]\n",
      "   [0. 0. 0.]\n",
      "   [0. 0. 0.]]]\n",
      "\n",
      "\n",
      " ...\n",
      "\n",
      "\n",
      " [[[0. 0. 0.]\n",
      "   [0. 0. 0.]\n",
      "   [0. 0. 0.]]\n",
      "\n",
      "  [[0. 0. 0.]\n",
      "   [0. 0. 0.]\n",
      "   [0. 0. 0.]]\n",
      "\n",
      "  [[0. 0. 0.]\n",
      "   [0. 0. 0.]\n",
      "   [0. 0. 0.]]]\n",
      "\n",
      "\n",
      " [[[0. 0. 0.]\n",
      "   [0. 0. 0.]\n",
      "   [0. 0. 0.]]\n",
      "\n",
      "  [[0. 0. 0.]\n",
      "   [0. 0. 0.]\n",
      "   [0. 0. 0.]]\n",
      "\n",
      "  [[0. 0. 0.]\n",
      "   [0. 0. 0.]\n",
      "   [0. 0. 0.]]]\n",
      "\n",
      "\n",
      " [[[0. 0. 0.]\n",
      "   [0. 0. 0.]\n",
      "   [0. 0. 0.]]\n",
      "\n",
      "  [[0. 0. 0.]\n",
      "   [0. 0. 0.]\n",
      "   [0. 0. 0.]]\n",
      "\n",
      "  [[0. 0. 0.]\n",
      "   [0. 0. 0.]\n",
      "   [0. 0. 0.]]]]\n",
      "******* backward *******\n",
      "[[[[ 0.0073202   0.00957133  0.01154457]\n",
      "   [ 0.00971613  0.01164554  0.00966228]\n",
      "   [ 0.01154376  0.00752073  0.00929334]]\n",
      "\n",
      "  [[ 0.00930321  0.00917916  0.01051938]\n",
      "   [ 0.00980899  0.00830535  0.0113578 ]\n",
      "   [ 0.00707462  0.00944482  0.00689008]]\n",
      "\n",
      "  [[ 0.01074725  0.01017821  0.00899461]\n",
      "   [ 0.00868488  0.00830334  0.00768701]\n",
      "   [ 0.00995661  0.00791197  0.00693305]]]\n",
      "\n",
      "\n",
      " [[[-0.00730842 -0.00625286 -0.00700447]\n",
      "   [-0.0065762  -0.0070942  -0.00622967]\n",
      "   [-0.00595791 -0.00615866 -0.00575032]]\n",
      "\n",
      "  [[-0.00595114 -0.00664483 -0.00691216]\n",
      "   [-0.0064674  -0.00640891 -0.00654225]\n",
      "   [-0.00700333 -0.00628594 -0.00576082]]\n",
      "\n",
      "  [[-0.00703828 -0.00642273 -0.00667834]\n",
      "   [-0.00561827 -0.00670213 -0.00685576]\n",
      "   [-0.00674907 -0.00599487 -0.0068336 ]]]\n",
      "\n",
      "\n",
      " [[[-0.01823798 -0.01666707 -0.01444406]\n",
      "   [-0.01896396 -0.01380315 -0.01888254]\n",
      "   [-0.01351023 -0.02027073 -0.01868075]]\n",
      "\n",
      "  [[-0.01695765 -0.01623733 -0.01325535]\n",
      "   [-0.01893461 -0.01699313 -0.01341776]\n",
      "   [-0.01600664 -0.01600381 -0.01295942]]\n",
      "\n",
      "  [[-0.01250331 -0.01413787 -0.01706683]\n",
      "   [-0.01955481 -0.01779051 -0.01617117]\n",
      "   [-0.01630158 -0.0185686  -0.0198387 ]]]\n",
      "\n",
      "\n",
      " ...\n",
      "\n",
      "\n",
      " [[[ 0.04358268  0.04346758  0.04394004]\n",
      "   [ 0.04936207  0.04996761  0.04736998]\n",
      "   [ 0.04769096  0.0459598   0.04456241]]\n",
      "\n",
      "  [[ 0.045855    0.04790161  0.0473639 ]\n",
      "   [ 0.04572488  0.04585868  0.04499786]\n",
      "   [ 0.04379843  0.04712617  0.04840603]]\n",
      "\n",
      "  [[ 0.04773377  0.04761806  0.04375705]\n",
      "   [ 0.04572592  0.04672943  0.04799277]\n",
      "   [ 0.04666845  0.04389928  0.04733039]]]\n",
      "\n",
      "\n",
      " [[[ 0.00221833  0.00198117  0.00183144]\n",
      "   [ 0.00176421  0.0023253   0.00158198]\n",
      "   [ 0.00298385  0.00217265  0.00193334]]\n",
      "\n",
      "  [[ 0.00130949  0.0009103   0.00143355]\n",
      "   [ 0.00229092  0.00145879  0.00219589]\n",
      "   [ 0.00162686  0.00123538  0.00205411]]\n",
      "\n",
      "  [[ 0.00224634  0.00103573  0.00126896]\n",
      "   [ 0.00117664  0.0016257   0.0019135 ]\n",
      "   [ 0.0026385   0.00270085  0.00107803]]]\n",
      "\n",
      "\n",
      " [[[-0.0099095  -0.01032815 -0.01077246]\n",
      "   [-0.01069888 -0.01163862 -0.00942097]\n",
      "   [-0.00970789 -0.01103869 -0.01182239]]\n",
      "\n",
      "  [[-0.0120834  -0.00950262 -0.01020621]\n",
      "   [-0.00962052 -0.01063741 -0.00960346]\n",
      "   [-0.01140994 -0.00960706 -0.01188139]]\n",
      "\n",
      "  [[-0.00938    -0.01011068 -0.01084966]\n",
      "   [-0.01073342 -0.01098257 -0.01091929]\n",
      "   [-0.01086678 -0.01178627 -0.01142277]]]]\n"
     ]
    }
   ],
   "source": [
    "import nnabla as nn\n",
    "import nnabla.functions as F\n",
    "import nnabla.parametric_functions as PF\n",
    "import numpy as np\n",
    "import nnabla.initializer as I\n",
    "\n",
    "nn.parameter.clear_parameters()\n",
    "\n",
    "rng = np.random.seed(31024)\n",
    "initializer = I.UniformInitializer((-0.1, 0.1), rng=rng)\n",
    "\n",
    "# create 16 random images 256x256 (RGB)\n",
    "x = nn.Variable((16, 3, 256, 256))\n",
    "x.d = np.random.random(x.shape)  # random input, just for example.\n",
    "\n",
    "y0 = PF.convolution(x, outmaps=64, kernel=(3, 3), pad=(1, 1), stride=(2, 2), w_init=initializer, name=\"conv1\", with_bias=False)\n",
    "y1 = F.relu(y0)\n",
    "y2 = PF.convolution(y1, outmaps=128, kernel=(3, 3), pad=(1, 1), stride=(2, 2), w_init=initializer, name=\"conv2\", with_bias=False)\n",
    "y3 = F.relu(y2)\n",
    "y4 = F.average_pooling(y3, kernel=y3.shape[2:])\n",
    "y5 = PF.affine(y4, 1, w_init=initializer)\n",
    "loss = F.mean(F.abs(y5 - 1.))\n",
    "loss.forward()  # Execute forward\n",
    "\n",
    "# We can check the current gradient of parameter.\n",
    "print(\"******* forward *******\")\n",
    "print(nn.get_parameters()[\"conv1/conv/W\"].g)\n",
    "\n",
    "loss.backward()\n",
    "print(\"******* backward *******\")\n",
    "print(nn.get_parameters()[\"conv1/conv/W\"].g)"
   ]
  },
  {
   "cell_type": "markdown",
   "metadata": {},
   "source": [
    "## CNN with static graph\n",
    "In this section, we demonstrate:\n",
    " - building a simple graph\n",
    " - training model\n",
    " - running prediction (with the trained model)\n",
    " - saving trained model\n",
    " - loading trained model\n",
    " - running prediction (with the loaded model)"
   ]
  },
  {
   "cell_type": "code",
   "execution_count": 14,
   "metadata": {},
   "outputs": [],
   "source": [
    "import sys\n",
    "import numpy as np\n",
    "from sklearn.datasets import load_digits  # Only for dataset\n",
    "\n",
    "import nnabla as nn\n",
    "import nnabla.functions as F\n",
    "import nnabla.parametric_functions as PF\n",
    "import nnabla.solvers as S\n",
    "import nnabla.initializer as I\n",
    "from nnabla.monitor import tile_images\n",
    "from nnabla.utils.data_iterator import data_iterator_simple\n",
    "\n",
    "import numpy as np\n",
    "import matplotlib.pyplot as plt\n",
    "%matplotlib inline\n",
    "\n",
    "nn.clear_parameters()\n",
    "nn.reset_array_preference()\n",
    "\n",
    "# set graph\n",
    "CNN_GRAPH = 1\n",
    "\n",
    "batch_size = 64\n",
    "h5_file_name = 'static_graph.h5'\n",
    "nnp_file_name = 'cnn_static_graph.nnp'\n",
    "nnb_file_name = 'cnn_static_graph.nnb'\n",
    "csrc_dir_name = 'cnn_static_graph_csrc'\n",
    "\n",
    "rng = np.random.seed(31024)\n",
    "initializer = I.UniformInitializer((-0.1, 0.1), rng=rng)\n",
    "\n",
    "imshow_opt = dict(cmap='gray', interpolation='nearest')"
   ]
  },
  {
   "cell_type": "code",
   "execution_count": 15,
   "metadata": {},
   "outputs": [],
   "source": [
    "imshow_opt = dict(cmap='gray', interpolation='nearest')\n",
    "\n",
    "def plot_stats(digits):\n",
    "    print(\"Num images:\", digits.images.shape[0])\n",
    "    print(\"Image shape:\", digits.images.shape[1:])\n",
    "    print(\"Labels:\", digits.target[:10])\n",
    "    plt.imshow(tile_images(digits.images[:64, None]), **imshow_opt)\n",
    "\n",
    "\n",
    "def data_iterator_tiny_digits(digits, batch_size=batch_size, shuffle=False, rng=None):\n",
    "    def load_func(index):\n",
    "        \"\"\"Loading an image and its label\"\"\"\n",
    "        img = digits.images[index]\n",
    "        label = digits.target[index]\n",
    "        return img[None], np.array([label]).astype(np.int32)\n",
    "    return data_iterator_simple(load_func, digits.target.shape[0], batch_size, shuffle, rng, with_file_cache=False)"
   ]
  },
  {
   "cell_type": "code",
   "execution_count": 16,
   "metadata": {},
   "outputs": [
    {
     "name": "stdout",
     "output_type": "stream",
     "text": [
      "Num images: 1797\n",
      "Image shape: (8, 8)\n",
      "Labels: [0 1 2 3 4 5 6 7 8 9]\n",
      "type(digits) = <class 'sklearn.utils.Bunch'>\n"
     ]
    },
    {
     "data": {
      "image/png": "[encoded data removed]",
      "text/plain": [
       "<Figure size 432x288 with 1 Axes>"
      ]
     },
     "metadata": {
      "needs_background": "light"
     },
     "output_type": "display_data"
    }
   ],
   "source": [
    "# get dataset\n",
    "digits = load_digits(n_class=10)\n",
    "plot_stats(digits)\n",
    "print('type(digits) = %s' % type(digits))"
   ]
  },
  {
   "cell_type": "code",
   "execution_count": 17,
   "metadata": {},
   "outputs": [
    {
     "name": "stderr",
     "output_type": "stream",
     "text": [
      "2020-04-23 15:03:08,661 [nnabla][INFO]: DataSource with shuffle(True)\n",
      "2020-04-23 15:03:08,663 [nnabla][INFO]: Using DataSourceWithMemoryCache\n",
      "2020-04-23 15:03:08,663 [nnabla][INFO]: DataSource with shuffle(True)\n",
      "2020-04-23 15:03:08,664 [nnabla][INFO]: On-memory\n",
      "2020-04-23 15:03:08,664 [nnabla][INFO]: Using DataIterator\n"
     ]
    },
    {
     "name": "stdout",
     "output_type": "stream",
     "text": [
      "labels: [[5 9 7 4 5 7 0 8]\n",
      " [1 6 1 7 4 5 8 8]\n",
      " [3 3 1 7 1 6 7 9]\n",
      " [7 1 3 6 3 6 6 3]\n",
      " [7 8 0 1 5 5 4 6]\n",
      " [0 5 5 0 8 9 7 8]\n",
      " [3 9 8 5 9 7 4 6]\n",
      " [8 2 7 6 7 2 3 6]]\n",
      "Label shape: (64, 1)\n",
      "type(img) = <class 'numpy.ndarray'>, img.shape = (64, 1, 8, 8)\n",
      "type(label) = <class 'numpy.ndarray'>\n",
      "[[[ 0.  0.  5. 12. 16.  9.  0.  0.]\n",
      "  [ 0.  7. 16. 10.  3.  0.  0.  0.]\n",
      "  [ 0.  8. 13.  0.  0.  0.  0.  0.]\n",
      "  [ 0.  9. 14.  4.  6.  0.  0.  0.]\n",
      "  [ 0.  4. 14. 12. 13. 13.  1.  0.]\n",
      "  [ 0.  0.  0.  0.  0. 15.  4.  0.]\n",
      "  [ 0.  0.  0.  0.  4. 15.  7.  0.]\n",
      "  [ 0.  0.  4. 12. 13.  8.  0.  0.]]]\n"
     ]
    },
    {
     "data": {
      "image/png": "[encoded data removed]",
      "text/plain": [
       "<Figure size 432x288 with 1 Axes>"
      ]
     },
     "metadata": {
      "needs_background": "light"
     },
     "output_type": "display_data"
    }
   ],
   "source": [
    "data = data_iterator_tiny_digits(digits, batch_size=batch_size, shuffle=True)\n",
    "img, label = data.next()\n",
    "plt.imshow(tile_images(img), **imshow_opt)\n",
    "print(\"labels:\", label.reshape(8, 8))\n",
    "print(\"Label shape:\", label.shape)\n",
    "print('type(img) = %s, img.shape = %s' % (type(img), img.shape))\n",
    "print('type(label) = %s' % type(label))\n",
    "\n",
    "print(img[0])"
   ]
  },
  {
   "cell_type": "markdown",
   "metadata": {},
   "source": [
    "### build a graph\n",
    "> Note: we have to run only one section:\n",
    "    - build simple graph\n",
    "    - build more complex graph"
   ]
  },
  {
   "cell_type": "markdown",
   "metadata": {},
   "source": [
    "#### build simple graph"
   ]
  },
  {
   "cell_type": "code",
   "execution_count": 18,
   "metadata": {
    "scrolled": true
   },
   "outputs": [],
   "source": [
    "if CNN_GRAPH == 0:\n",
    "    # Forward pass\n",
    "    x = nn.Variable(img.shape)  # Define an image variable\n",
    "    with nn.parameter_scope(\"affine1\"):\n",
    "        y = PF.affine(x, 10)  # Output is 10 class\n",
    "\n",
    "    # Building a loss graph\n",
    "    t = nn.Variable(label.shape)  # Define an target variable\n",
    "    loss = F.mean(F.softmax_cross_entropy(y, t))  # Softmax Xentropy fits multi-class classification problems\n",
    "\n",
    "    print(\"Printing shapes of variables\")\n",
    "    print('x:', x.shape)\n",
    "    print('y:', y.shape)\n",
    "    print('t:', t.shape)\n",
    "    print('loss:', loss.shape)  # empty tuple means scalar"
   ]
  },
  {
   "cell_type": "markdown",
   "metadata": {},
   "source": [
    "#### build more complex graph"
   ]
  },
  {
   "cell_type": "code",
   "execution_count": 19,
   "metadata": {
    "scrolled": true
   },
   "outputs": [
    {
     "name": "stdout",
     "output_type": "stream",
     "text": [
      "Printing shapes of variables\n",
      "x: (64, 1, 8, 8)\n",
      "y0: (64, 64, 4, 4)\n",
      "y1: (64, 64, 4, 4)\n",
      "y: (64, 10)\n",
      "t: (64, 1)\n",
      "loss: ()\n"
     ]
    }
   ],
   "source": [
    "if CNN_GRAPH == 1:\n",
    "    # Forward pass\n",
    "    x = nn.Variable(img.shape)  # Define an image variable\n",
    "    with nn.parameter_scope(\"affine1\"):\n",
    "        y0 = PF.convolution(x, outmaps=batch_size, kernel=(3, 3), pad=(1, 1), stride=(2, 2), w_init=initializer, name=\"conv1\", with_bias=False)\n",
    "        y1 = F.relu(y0)\n",
    "        # since the image is already too small, pooling does not make sense\n",
    "        # y2 = F.max_pooling(y1, kernel=y1.shape[2:])\n",
    "        y = PF.affine(y1, 10)  # Output is 10 class\n",
    "\n",
    "    # Building a loss graph\n",
    "    t = nn.Variable(label.shape)  # Define an target variable\n",
    "    loss = F.mean(F.softmax_cross_entropy(y, t))  # Softmax Xentropy fits multi-class classification problems\n",
    "\n",
    "    print(\"Printing shapes of variables\")\n",
    "    print('x:', x.shape)\n",
    "    print('y0:', y0.shape)\n",
    "    print('y1:', y1.shape)\n",
    "    print('y:', y.shape)\n",
    "    print('t:', t.shape)\n",
    "    print('loss:', loss.shape)  # empty tuple means scalar"
   ]
  },
  {
   "cell_type": "markdown",
   "metadata": {},
   "source": [
    "### Stochastic Gradient Solver"
   ]
  },
  {
   "cell_type": "code",
   "execution_count": 20,
   "metadata": {},
   "outputs": [],
   "source": [
    "# Create a solver (gradient-based optimizer)\n",
    "learning_rate = 1e-3\n",
    "solver = S.Sgd(learning_rate)\n",
    "solver.set_parameters(nn.get_parameters())  # Set parameter variables to be updated."
   ]
  },
  {
   "cell_type": "markdown",
   "metadata": {},
   "source": [
    "### training"
   ]
  },
  {
   "cell_type": "code",
   "execution_count": 21,
   "metadata": {},
   "outputs": [],
   "source": [
    "# Training\n",
    "n_epochs = 1000\n",
    "total_epochs = 0"
   ]
  },
  {
   "cell_type": "code",
   "execution_count": 22,
   "metadata": {
    "scrolled": true
   },
   "outputs": [
    {
     "name": "stdout",
     "output_type": "stream",
     "text": [
      "epoch=100 loss=1.398087\n",
      "epoch=200 loss=0.851872\n",
      "epoch=300 loss=0.569510\n",
      "epoch=400 loss=0.574728\n",
      "epoch=500 loss=0.361557\n",
      "epoch=600 loss=0.331541\n",
      "epoch=700 loss=0.351856\n",
      "epoch=800 loss=0.317157\n",
      "epoch=900 loss=0.342510\n",
      "epoch=1000 loss=0.125865\n"
     ]
    }
   ],
   "source": [
    "for _ in range(n_epochs):\n",
    "    x.d, t.d = data.next()\n",
    "    loss.forward()\n",
    "    solver.zero_grad()  # Initialize gradients of all parameters to zero.\n",
    "    loss.backward()\n",
    "    solver.weight_decay(1e-5)  # Applying weight decay as an regularization\n",
    "    solver.update()\n",
    "    total_epochs = total_epochs + 1\n",
    "    if total_epochs % 100 == 0:  # Print for each 10 iterations\n",
    "        print('epoch=%d loss=%f' % (total_epochs, loss.d))"
   ]
  },
  {
   "cell_type": "code",
   "execution_count": 23,
   "metadata": {},
   "outputs": [
    {
     "name": "stdout",
     "output_type": "stream",
     "text": [
      "prediction:\n",
      "[[8 9 5 0 5 0 3 0]\n",
      " [2 1 7 5 5 2 4 5]\n",
      " [3 1 5 1 6 8 7 3]\n",
      " [5 0 5 9 9 1 0 1]\n",
      " [0 6 8 1 6 6 5 9]\n",
      " [4 5 3 9 1 6 3 0]\n",
      " [0 8 6 2 1 7 2 6]\n",
      " [4 4 6 4 8 8 3 7]]\n"
     ]
    },
    {
     "data": {
      "image/png": "[encoded data removed]",
      "text/plain": [
       "<Figure size 432x288 with 1 Axes>"
      ]
     },
     "metadata": {
      "needs_background": "light"
     },
     "output_type": "display_data"
    }
   ],
   "source": [
    "# prediction\n",
    "x.d, t.d = data.next()  # Here we predict images from training set although it's useless. \n",
    "y.forward()  # You can execute a sub graph.\n",
    "plt.imshow(tile_images(x.d), **imshow_opt)\n",
    "print(\"prediction:\")\n",
    "print(y.d.argmax(axis=1).reshape(8, 8))  # Taking a class index based on prediction score."
   ]
  },
  {
   "cell_type": "markdown",
   "metadata": {},
   "source": [
    "### save model"
   ]
  },
  {
   "cell_type": "code",
   "execution_count": 24,
   "metadata": {},
   "outputs": [],
   "source": [
    "def save_nnp(input, output, batchsize):\n",
    "    runtime_contents = {\n",
    "        'networks': [\n",
    "            {'name': 'Validation',\n",
    "             'batch_size': batchsize,\n",
    "             'outputs': output,\n",
    "             'names': input}],\n",
    "        'executors': [\n",
    "            {'name': 'Runtime',\n",
    "             'network': 'Validation',\n",
    "             'data': [k for k, _ in input.items()],\n",
    "             'output':[k for k, _ in output.items()]}]}\n",
    "    return runtime_contents"
   ]
  },
  {
   "cell_type": "code",
   "execution_count": 25,
   "metadata": {},
   "outputs": [
    {
     "name": "stderr",
     "output_type": "stream",
     "text": [
      "2020-04-23 15:03:12,346 [nnabla][INFO]: Parameter save (.h5): static_graph.h5\n"
     ]
    }
   ],
   "source": [
    "# save parameters\n",
    "nn.save_parameters(h5_file_name)"
   ]
  },
  {
   "cell_type": "code",
   "execution_count": 26,
   "metadata": {},
   "outputs": [
    {
     "name": "stdout",
     "output_type": "stream",
     "text": [
      "{'networks': [{'name': 'Validation', 'batch_size': 64, 'outputs': {'y': <Variable((64, 10), need_grad=True) at 0x7ff06e50a9b0>, 'y0': <Variable((64, 64, 4, 4), need_grad=True) at 0x7ff06e50a890>, 'y1': <Variable((64, 64, 4, 4), need_grad=True) at 0x7ff06e50a650>}, 'names': {'x': <Variable((64, 1, 8, 8), need_grad=False) at 0x7ff06e547650>}}], 'executors': [{'name': 'Runtime', 'network': 'Validation', 'data': ['x'], 'output': ['y', 'y0', 'y1']}]}\n"
     ]
    }
   ],
   "source": [
    "img = nn.Variable(x.shape)\n",
    "lab = nn.Variable(t.shape)\n",
    "img.d, lab.d = data.next()\n",
    "if CNN_GRAPH == 0:\n",
    "    content = save_nnp(input={'x': x}, output={'y': y, 'loss': loss, 't': t}, batchsize=batch_size)\n",
    "elif CNN_GRAPH == 1:\n",
    "    # content = save_nnp(input={'x': x}, output={'y': y, 'y0': y0, 'y1': y1, 'loss': loss, 't': t}, batchsize=batch_size)\n",
    "    content = save_nnp(input={'x': x}, output={'y': y, 'y0': y0, 'y1': y1}, batchsize=batch_size)\n",
    "print(content)"
   ]
  },
  {
   "cell_type": "code",
   "execution_count": 27,
   "metadata": {},
   "outputs": [
    {
     "name": "stderr",
     "output_type": "stream",
     "text": [
      "2020-04-23 15:03:12,934 [nnabla][INFO]: Saving cnn_static_graph.nnp as nnp\n",
      "2020-04-23 15:03:12,936 [nnabla][INFO]: Saving /tmp/tmp1vfoockr/network.nntxt as prototxt\n",
      "2020-04-23 15:03:12,948 [nnabla][INFO]: Parameter save (.protobuf): /tmp/tmp1vfoockr/parameter.protobuf\n"
     ]
    }
   ],
   "source": [
    "import nnabla.utils.save as save\n",
    "save.save(nnp_file_name, content)"
   ]
  },
  {
   "cell_type": "markdown",
   "metadata": {},
   "source": [
    "### load model"
   ]
  },
  {
   "cell_type": "code",
   "execution_count": 28,
   "metadata": {},
   "outputs": [],
   "source": [
    "from nnabla.utils.nnp_graph import NnpLoader\n",
    "\n",
    "# load h5\n",
    "nn.load_parameters(h5_file_name)\n",
    "# Read a .nnp file.\n",
    "nnp = NnpLoader(nnp_file_name)"
   ]
  },
  {
   "cell_type": "code",
   "execution_count": 29,
   "metadata": {},
   "outputs": [],
   "source": [
    "nw_name = nnp.get_network_names()[0]\n",
    "net = nnp.get_network(nw_name)"
   ]
  },
  {
   "cell_type": "code",
   "execution_count": 30,
   "metadata": {},
   "outputs": [
    {
     "data": {
      "text/plain": [
       "{'x': <Variable((64, 1, 8, 8), need_grad=False) at 0x7ff06e3f9830>,\n",
       " 'affine1/conv1/conv/W': <Variable((64, 1, 3, 3), need_grad=True) at 0x7ff06e3f98f0>,\n",
       " 'y0': <Variable((64, 64, 4, 4), need_grad=True) at 0x7ff06e3f99b0>,\n",
       " 'y1': <Variable((64, 64, 4, 4), need_grad=True) at 0x7ff06e3f91d0>,\n",
       " 'affine1/affine/W': <Variable((1024, 10), need_grad=True) at 0x7ff06e3f9290>,\n",
       " 'affine1/affine/b': <Variable((10,), need_grad=True) at 0x7ff06e3f9230>,\n",
       " 'y': <Variable((64, 10), need_grad=True) at 0x7ff06e3fd830>}"
      ]
     },
     "execution_count": 30,
     "metadata": {},
     "output_type": "execute_result"
    }
   ],
   "source": [
    "net.variables"
   ]
  },
  {
   "cell_type": "code",
   "execution_count": 31,
   "metadata": {},
   "outputs": [
    {
     "name": "stdout",
     "output_type": "stream",
     "text": [
      "nw_name = Validation\n",
      "<nnabla.utils.nnp_graph.NnpNetwork object at 0x7ff06e46b410>\n"
     ]
    }
   ],
   "source": [
    "nw_name = nnp.get_network_names()[0]\n",
    "print('nw_name = %s' % nw_name)\n",
    "net = nnp.get_network(nw_name)\n",
    "print(net)\n",
    "# load h5\n",
    "nn.load_parameters(h5_file_name)"
   ]
  },
  {
   "cell_type": "code",
   "execution_count": 32,
   "metadata": {},
   "outputs": [
    {
     "name": "stdout",
     "output_type": "stream",
     "text": [
      "{'x': <Variable((64, 1, 8, 8), need_grad=False) at 0x7ff06e3f9ad0>}\n",
      "{'y': <Variable((64, 10), need_grad=True) at 0x7ff06e3f9d70>}\n"
     ]
    }
   ],
   "source": [
    "print(net.inputs)\n",
    "print(net.outputs)"
   ]
  },
  {
   "cell_type": "code",
   "execution_count": 33,
   "metadata": {},
   "outputs": [
    {
     "name": "stdout",
     "output_type": "stream",
     "text": [
      "<Variable((64, 1, 8, 8), need_grad=False) at 0x7ff06e3f9ad0>\n",
      "<Variable((64, 10), need_grad=True) at 0x7ff06e3f9d70>\n"
     ]
    }
   ],
   "source": [
    "x = net.inputs['x']\n",
    "y = net.outputs['y']\n",
    "print(x)\n",
    "print(y)"
   ]
  },
  {
   "cell_type": "code",
   "execution_count": 34,
   "metadata": {
    "scrolled": true
   },
   "outputs": [
    {
     "name": "stdout",
     "output_type": "stream",
     "text": [
      "data.position=1361\n",
      "prediction:\n",
      "[[0 2 3 7 7 0 3 0]\n",
      " [9 2 0 4 0 3 2 4]\n",
      " [7 8 5 6 8 7 5 4]\n",
      " [8 7 8 8 6 4 2 5]\n",
      " [1 0 5 7 6 3 3 8]\n",
      " [1 8 7 0 2 1 9 5]\n",
      " [5 1 3 7 9 8 6 6]\n",
      " [2 5 1 6 2 6 5 0]]\n"
     ]
    },
    {
     "data": {
      "image/png": "[encoded data removed]",
      "text/plain": [
       "<Figure size 432x288 with 1 Axes>"
      ]
     },
     "metadata": {
      "needs_background": "light"
     },
     "output_type": "display_data"
    }
   ],
   "source": [
    "# prediction\n",
    "print('data.position=%d' % data.position)\n",
    "x.d, _ = data.next()  # Here we predict images from training set although it's useless. \n",
    "y.forward()  # You can execute a sub graph.\n",
    "plt.imshow(tile_images(x.d), **imshow_opt)\n",
    "print(\"prediction:\")\n",
    "print(y.d.argmax(axis=1).reshape(8, 8))  # Taking a class index based on prediction score."
   ]
  },
  {
   "cell_type": "markdown",
   "metadata": {},
   "source": [
    "### File format conversion"
   ]
  },
  {
   "cell_type": "markdown",
   "metadata": {},
   "source": [
    "#### Convert from NNP to NNB"
   ]
  },
  {
   "cell_type": "code",
   "execution_count": 35,
   "metadata": {},
   "outputs": [],
   "source": [
    "# Convert from NNP to NNB\n",
    "import subprocess, sys, os\n",
    "out = subprocess.Popen(['nnabla_cli', 'convert', '-b', '%d' % batch_size, nnp_file_name, nnb_file_name])\n",
    "assert(os.path.exists(nnb_file_name))\n",
    "assert(os.path.isfile(nnb_file_name))"
   ]
  },
  {
   "cell_type": "markdown",
   "metadata": {},
   "source": [
    "#### Convert from binary NNB to C-style NNB\n",
    "\n",
    "https://github.com/Jamesits/bin2array"
   ]
  },
  {
   "cell_type": "markdown",
   "metadata": {},
   "source": [
    "#### Convert from NNP to C source\n",
    "This generated C source files are in the directory `csrc_dir_name`, with a GNUmakefile. This should be a good example of using the generated C source model.\n",
    "\n",
    "Requirements before compiling the C source:\n",
    "1. clone the official Nnabla C Runtime from https://github.com/sony/nnabla-c-runtime (without -fPIE flag) or https://github.com/mu-triv/nnabla-c-runtime (with -fPIE)\n",
    "2. compile Nnabla C Runtime (`make`)\n",
    "3. set these environment variables:\n",
    "    * `LD_LIBRARY_PATH` and `LIBRARY_PATH` (example: `nnabla-c-runtime/build/_CPack_Packages/Linux/ZIP/nnabla-c-runtime-1.2.0.dev1_c1-Linux/lib`)\n",
    "    * `C_INCLUDE_PATH` and `CPLUS_INCLUDE_PATH` (example: `nnabla-c-runtime/include`)\n",
    "    * Or you will need to modify the GNUmakefile\n",
    "\n",
    "The generated C source is compiled with the following command:\n",
    "```\n",
    "cd csrc_dir_name\n",
    "make\n",
    "```"
   ]
  },
  {
   "cell_type": "code",
   "execution_count": 36,
   "metadata": {},
   "outputs": [],
   "source": [
    "# Convert from NNP to CSRC\n",
    "import subprocess\n",
    "import pathlib\n",
    "pathlib.Path(csrc_dir_name).mkdir(parents=True, exist_ok=True) \n",
    "\n",
    "out = subprocess.Popen(['nnabla_cli', 'convert', '-b', '%d' % batch_size, '-O', 'CSRC', nnp_file_name, csrc_dir_name])\n",
    "assert(os.path.exists(nnb_file_name))\n",
    "assert(os.path.isdir(csrc_dir_name))"
   ]
  },
  {
   "cell_type": "markdown",
   "metadata": {},
   "source": [
    "#### save 64 raw images\n",
    "These images are used with prediction later"
   ]
  },
  {
   "cell_type": "code",
   "execution_count": 40,
   "metadata": {},
   "outputs": [],
   "source": [
    "prediction_file = 'img_64010808.raw'"
   ]
  },
  {
   "cell_type": "code",
   "execution_count": 38,
   "metadata": {
    "scrolled": true
   },
   "outputs": [
    {
     "name": "stdout",
     "output_type": "stream",
     "text": [
      "data.position=1425\n",
      "x.d.shape = (64, 1, 8, 8)\n",
      "type = <class 'numpy.float64'>\n"
     ]
    },
    {
     "data": {
      "text/plain": [
       "<matplotlib.image.AxesImage at 0x7ff06e295810>"
      ]
     },
     "execution_count": 38,
     "metadata": {},
     "output_type": "execute_result"
    },
    {
     "data": {
      "image/png": "[encoded data removed]",
      "text/plain": [
       "<Figure size 432x288 with 1 Axes>"
      ]
     },
     "metadata": {
      "needs_background": "light"
     },
     "output_type": "display_data"
    }
   ],
   "source": [
    "with open(prediction_file, 'wb') as fh:\n",
    "    print('data.position=%d' % data.position)\n",
    "    x.d, _ = data.next()\n",
    "    print('x.d.shape = %s' % str(x.d.shape))\n",
    "    print('type = %s' % type(x.d[0,0,0,0]))\n",
    "    fh.write(np.float32(x.d))\n",
    "plt.imshow(tile_images(x.d), **imshow_opt)"
   ]
  },
  {
   "cell_type": "markdown",
   "metadata": {},
   "source": [
    "#### Convert from binary raw images to C-style images\n",
    "\n",
    "https://github.com/Jamesits/bin2array"
   ]
  },
  {
   "cell_type": "markdown",
   "metadata": {},
   "source": [
    "### display the prediction results\n",
    "> Note: execute this cell after the CSRC inference execution\n",
    "\n",
    "This cell displays the prediction result and allows to compare the result with the reference images.\n",
    "\n",
    "I assume that we execute the CSCR inference this way\n",
    "\n",
    "`./Validation_example ../img_64010808.raw output`\n",
    "\n",
    "> `img_64010808.raw` is defined in `prediction_file`\n",
    ">\n",
    "> `output` is the header of the output file names\n",
    "\n",
    "After executing the prediction in CSRC, we obtain several output data, such as `output_0.bin`, `output_1.bin`, `output_2.bin`"
   ]
  },
  {
   "cell_type": "code",
   "execution_count": 41,
   "metadata": {
    "scrolled": false
   },
   "outputs": [
    {
     "name": "stdout",
     "output_type": "stream",
     "text": [
      "[[4 2 3 6 3 3 2 9]\n",
      " [1 0 3 7 2 1 3 7]\n",
      " [7 2 9 5 9 1 5 2]\n",
      " [1 8 4 2 8 1 2 4]\n",
      " [9 0 2 5 2 7 9 0]\n",
      " [9 0 1 5 5 9 5 9]\n",
      " [8 2 5 9 7 0 4 3]\n",
      " [2 7 9 7 2 7 5 2]]\n"
     ]
    },
    {
     "data": {
      "text/plain": [
       "<matplotlib.image.AxesImage at 0x7ff06e5f5cd0>"
      ]
     },
     "execution_count": 41,
     "metadata": {},
     "output_type": "execute_result"
    },
    {
     "data": {
      "image/png": "[encoded data removed]",
      "text/plain": [
       "<Figure size 432x288 with 1 Axes>"
      ]
     },
     "metadata": {
      "needs_background": "light"
     },
     "output_type": "display_data"
    }
   ],
   "source": [
    "import os\n",
    "yinf = nn.Variable(y.shape)\n",
    "prediction_result_file = os.path.join(csrc_dir_name, 'output_0.bin')\n",
    "with open(prediction_result_file, 'rb') as fh:\n",
    "    fbytes = fh.read()\n",
    "\n",
    "afloats = np.frombuffer(fbytes, dtype=np.float32)\n",
    "yinf.d = np.reshape(afloats, yinf.shape)\n",
    "print(yinf.d.argmax(axis=1).reshape(8, 8))  # Taking a class index based on prediction score.\n",
    "\n",
    "# load the reference images\n",
    "yref = nn.Variable(x.shape)\n",
    "with open(prediction_file, 'rb') as fh:\n",
    "    yref_d = fh.read()\n",
    "yref.d = np.reshape(np.frombuffer(yref_d, dtype=np.float32), yref.shape)\n",
    "# display the reference images\n",
    "plt.imshow(tile_images(yref.d), **imshow_opt)"
   ]
  },
  {
   "cell_type": "markdown",
   "metadata": {},
   "source": [
    "# Annex"
   ]
  },
  {
   "cell_type": "markdown",
   "metadata": {},
   "source": [
    "## Functions"
   ]
  },
  {
   "cell_type": "code",
   "execution_count": null,
   "metadata": {},
   "outputs": [],
   "source": [
    "import numpy as np\n",
    "x=3; y=4; z=5\n",
    "a = np.random.randint(0, 10, size=(x,y,z))\n",
    "b = np.random.randint(0, 10, size=(x,y,z))"
   ]
  },
  {
   "cell_type": "markdown",
   "metadata": {},
   "source": [
    "### compare constants"
   ]
  },
  {
   "cell_type": "code",
   "execution_count": null,
   "metadata": {
    "scrolled": true
   },
   "outputs": [],
   "source": [
    "import nnabla as nn\n",
    "\n",
    "nn.set_auto_forward(True)\n",
    "\n",
    "x0 = nn.NdArray((a.shape))\n",
    "x0.data = a\n",
    "x1 = nn.NdArray((b.shape))\n",
    "x1.data = b\n",
    "print(\"x0=\", x0.data)\n",
    "print(\"x1=\", x1.data)"
   ]
  },
  {
   "cell_type": "code",
   "execution_count": null,
   "metadata": {
    "scrolled": true
   },
   "outputs": [],
   "source": [
    "r = nn.functions.equal(x0, x1, n_outputs=-1, outputs=None)\n",
    "print(r, r.data)"
   ]
  },
  {
   "cell_type": "code",
   "execution_count": null,
   "metadata": {},
   "outputs": [],
   "source": [
    "r = nn.functions.greater(x0, x1, n_outputs=-1, outputs=None)\n",
    "print(r, r.data)"
   ]
  },
  {
   "cell_type": "markdown",
   "metadata": {},
   "source": [
    "### compare variables"
   ]
  },
  {
   "cell_type": "code",
   "execution_count": null,
   "metadata": {},
   "outputs": [],
   "source": [
    "x2 = nn.Variable(x0.shape)\n",
    "x2.data = x0\n",
    "x3 = nn.Variable(x1.shape)\n",
    "x3.data = x1"
   ]
  },
  {
   "cell_type": "code",
   "execution_count": null,
   "metadata": {},
   "outputs": [],
   "source": [
    "r = nn.functions.greater(x2, x3, n_outputs=-1, outputs=None)\n",
    "print(r, r.d)"
   ]
  },
  {
   "cell_type": "markdown",
   "metadata": {},
   "source": [
    "## minimum"
   ]
  },
  {
   "cell_type": "code",
   "execution_count": null,
   "metadata": {},
   "outputs": [],
   "source": [
    "import nnabla.functions as F\n",
    "\n",
    "x = nn.Variable.from_numpy_array(np.random.rand(2, 3, 4))\n",
    "print(x)\n",
    "print(x.d)\n",
    "\n",
    "minval = F.min(x, axis=1)\n",
    "print(minval)\n",
    "print(minval.d)"
   ]
  },
  {
   "cell_type": "markdown",
   "metadata": {},
   "source": [
    "## function relu"
   ]
  },
  {
   "cell_type": "code",
   "execution_count": null,
   "metadata": {
    "scrolled": true
   },
   "outputs": [],
   "source": [
    "import nnabla.parametric_functions as PF\n",
    "import nnabla.functions as F\n",
    "\n",
    "x = nn.Variable((2, 3, 8, 8))\n",
    "x.d = np.random.random(x.shape)  # random input, just for example.\n",
    "\n",
    "nn.parameter.clear_parameters()\n",
    "with nn.parameter_scope('conv1') as param:\n",
    "    conv_out = PF.convolution(x, 2, (5, 5))\n",
    "    relu_out = F.relu(conv_out)\n",
    "    \n",
    "print(relu_out)\n",
    "print(relu_out.d)"
   ]
  },
  {
   "cell_type": "markdown",
   "metadata": {},
   "source": [
    "## sigmoid"
   ]
  },
  {
   "cell_type": "code",
   "execution_count": null,
   "metadata": {},
   "outputs": [],
   "source": [
    "\n",
    "import nnabla.parametric_functions as PF\n",
    "import nnabla.functions as F\n",
    "\n",
    "x = nn.Variable((2, 3, 8, 8))\n",
    "x.d = np.random.random(x.shape)  # random input, just for example.\n",
    "\n",
    "nn.parameter.clear_parameters()\n",
    "with nn.parameter_scope('conv2') as param:\n",
    "    conv_out = PF.convolution(x, 2, (5, 5))\n",
    "    sig_out = F.sigmoid(conv_out)\n",
    "    \n",
    "print(sig_out)\n",
    "print(sig_out.d)"
   ]
  },
  {
   "cell_type": "markdown",
   "metadata": {},
   "source": [
    "## Parametric functions"
   ]
  },
  {
   "cell_type": "markdown",
   "metadata": {},
   "source": [
    "## Affine"
   ]
  },
  {
   "cell_type": "code",
   "execution_count": null,
   "metadata": {},
   "outputs": [],
   "source": [
    "import numpy as np\n",
    "import nnabla as nn\n",
    "import nnabla.parametric_functions as PF\n",
    "\n",
    "x = nn.Variable.from_numpy_array(np.array([[1, 2], [3, 4]]))\n",
    "y = PF.affine(x, 4, name=\"y\")\n",
    "print(\"x\")\n",
    "print(x.d)\n",
    "print(\"y\")\n",
    "print(y.d)"
   ]
  },
  {
   "cell_type": "code",
   "execution_count": null,
   "metadata": {},
   "outputs": [],
   "source": []
  }
 ],
 "metadata": {
  "kernelspec": {
   "display_name": "Python 3",
   "language": "python",
   "name": "python3"
  },
  "language_info": {
   "codemirror_mode": {
    "name": "ipython",
    "version": 3
   },
   "file_extension": ".py",
   "mimetype": "text/x-python",
   "name": "python",
   "nbconvert_exporter": "python",
   "pygments_lexer": "ipython3",
   "version": "3.7.5"
  }
 },
 "nbformat": 4,
 "nbformat_minor": 2
}
