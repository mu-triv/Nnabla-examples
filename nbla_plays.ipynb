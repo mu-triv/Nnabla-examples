{
 "cells": [
  {
   "cell_type": "markdown",
   "metadata": {},
   "source": [
    "# Compare two 3D arrays"
   ]
  },
  {
   "cell_type": "code",
   "execution_count": null,
   "metadata": {},
   "outputs": [],
   "source": [
    "import numpy as np\n",
    "x=3; y=4; z=5\n",
    "a = np.random.randint(0, 10, size=(x,y,z))\n",
    "b = np.random.randint(0, 10, size=(x,y,z))"
   ]
  },
  {
   "cell_type": "markdown",
   "metadata": {},
   "source": [
    "## compare constants"
   ]
  },
  {
   "cell_type": "code",
   "execution_count": null,
   "metadata": {
    "scrolled": true
   },
   "outputs": [],
   "source": [
    "import nnabla as nn\n",
    "\n",
    "nn.set_auto_forward(True)\n",
    "\n",
    "x0 = nn.NdArray((a.shape))\n",
    "x0.data = a\n",
    "x1 = nn.NdArray((b.shape))\n",
    "x1.data = b\n",
    "print(\"x0=\", x0.data)\n",
    "print(\"x1=\", x1.data)"
   ]
  },
  {
   "cell_type": "code",
   "execution_count": null,
   "metadata": {
    "scrolled": true
   },
   "outputs": [],
   "source": [
    "r = nn.functions.equal(x0, x1, n_outputs=-1, outputs=None)\n",
    "print(r, r.data)"
   ]
  },
  {
   "cell_type": "code",
   "execution_count": null,
   "metadata": {},
   "outputs": [],
   "source": [
    "r = nn.functions.greater(x0, x1, n_outputs=-1, outputs=None)\n",
    "print(r, r.data)"
   ]
  },
  {
   "cell_type": "markdown",
   "metadata": {},
   "source": [
    "## compare variables"
   ]
  },
  {
   "cell_type": "code",
   "execution_count": null,
   "metadata": {},
   "outputs": [],
   "source": [
    "x2 = nn.Variable(x0.shape)\n",
    "x2.data = x0\n",
    "x3 = nn.Variable(x1.shape)\n",
    "x3.data = x1"
   ]
  },
  {
   "cell_type": "code",
   "execution_count": null,
   "metadata": {},
   "outputs": [],
   "source": [
    "r = nn.functions.greater(x2, x3, n_outputs=-1, outputs=None)\n",
    "print(r, r.d)"
   ]
  },
  {
   "cell_type": "markdown",
   "metadata": {},
   "source": [
    "## minimum"
   ]
  },
  {
   "cell_type": "code",
   "execution_count": null,
   "metadata": {},
   "outputs": [],
   "source": [
    "import nnabla.functions as F\n",
    "\n",
    "x = nn.Variable.from_numpy_array(np.random.rand(2, 3, 4))\n",
    "print(x)\n",
    "print(x.d)\n",
    "\n",
    "minval = F.min(x, axis=1)\n",
    "print(minval)\n",
    "print(minval.d)"
   ]
  },
  {
   "cell_type": "markdown",
   "metadata": {},
   "source": [
    "## function relu"
   ]
  },
  {
   "cell_type": "code",
   "execution_count": null,
   "metadata": {
    "scrolled": true
   },
   "outputs": [],
   "source": [
    "import nnabla.parametric_functions as PF\n",
    "import nnabla.functions as F\n",
    "\n",
    "x = nn.Variable((2, 3, 8, 8))\n",
    "x.d = np.random.random(x.shape)  # random input, just for example.\n",
    "\n",
    "nn.parameter.clear_parameters()\n",
    "with nn.parameter_scope('conv1') as param:\n",
    "    conv_out = PF.convolution(x, 2, (5, 5))\n",
    "    relu_out = F.relu(conv_out)\n",
    "    \n",
    "print(relu_out)\n",
    "print(relu_out.d)"
   ]
  },
  {
   "cell_type": "markdown",
   "metadata": {},
   "source": [
    "## sigmoid"
   ]
  },
  {
   "cell_type": "code",
   "execution_count": null,
   "metadata": {},
   "outputs": [],
   "source": [
    "\n",
    "import nnabla.parametric_functions as PF\n",
    "import nnabla.functions as F\n",
    "\n",
    "x = nn.Variable((2, 3, 8, 8))\n",
    "x.d = np.random.random(x.shape)  # random input, just for example.\n",
    "\n",
    "nn.parameter.clear_parameters()\n",
    "with nn.parameter_scope('conv2') as param:\n",
    "    conv_out = PF.convolution(x, 2, (5, 5))\n",
    "    sig_out = F.sigmoid(conv_out)\n",
    "    \n",
    "print(sig_out)\n",
    "print(sig_out.d)"
   ]
  },
  {
   "cell_type": "markdown",
   "metadata": {},
   "source": [
    "# Parametric functions"
   ]
  },
  {
   "cell_type": "markdown",
   "metadata": {},
   "source": [
    "## Affine"
   ]
  },
  {
   "cell_type": "code",
   "execution_count": null,
   "metadata": {},
   "outputs": [],
   "source": [
    "import numpy as np\n",
    "import nnabla as nn\n",
    "import nnabla.parametric_functions as PF\n",
    "\n",
    "x = nn.Variable.from_numpy_array(np.array([[1, 2], [3, 4]]))\n",
    "y = PF.affine(x, 4, name=\"y\")\n",
    "print(\"x\")\n",
    "print(x.d)\n",
    "print(\"y\")\n",
    "print(y.d)"
   ]
  },
  {
   "cell_type": "markdown",
   "metadata": {},
   "source": [
    "# Simple CNN"
   ]
  },
  {
   "cell_type": "code",
   "execution_count": null,
   "metadata": {
    "scrolled": true
   },
   "outputs": [],
   "source": [
    "import nnabla as nn\n",
    "import nnabla.functions as F\n",
    "import nnabla.parametric_functions as PF\n",
    "import numpy as np\n",
    "import nnabla.initializer as I\n",
    "\n",
    "nn.parameter.clear_parameters()\n",
    "\n",
    "rng = np.random.seed(31024)\n",
    "initializer = I.UniformInitializer((-0.1, 0.1), rng=rng)\n",
    "\n",
    "# create 16 random images 256x256 (RGB)\n",
    "x = nn.Variable((16, 3, 256, 256))\n",
    "x.d = np.random.random(x.shape)  # random input, just for example.\n",
    "\n",
    "y0 = PF.convolution(x, outmaps=64, kernel=(3, 3), pad=(1, 1), stride=(2, 2), w_init=initializer, name=\"conv1\", with_bias=False)\n",
    "y1 = F.relu(y0)\n",
    "y2 = PF.convolution(y1, outmaps=128, kernel=(3, 3), pad=(1, 1), stride=(2, 2), w_init=initializer, name=\"conv2\", with_bias=False)\n",
    "y3 = F.relu(y2)\n",
    "y4 = F.average_pooling(y3, kernel=y3.shape[2:])\n",
    "y5 = PF.affine(y4, 1, w_init=initializer)\n",
    "loss = F.mean(F.abs(y5 - 1.))\n",
    "loss.forward()  # Execute forward\n",
    "\n",
    "# We can check the current gradient of parameter.\n",
    "print(\"******* forward *******\")\n",
    "print(nn.get_parameters()[\"conv1/conv/W\"].g)\n",
    "\n",
    "loss.backward()\n",
    "print(\"******* backward *******\")\n",
    "print(nn.get_parameters()[\"conv1/conv/W\"].g)"
   ]
  },
  {
   "cell_type": "markdown",
   "metadata": {},
   "source": [
    "## CNN with static graph\n",
    "In this section, we demonstrate:\n",
    " - building a simple graph\n",
    " - training model\n",
    " - running prediction (with the trained model)\n",
    " - saving trained model\n",
    " - loading trained model\n",
    " - running prediction (with the loaded model)"
   ]
  },
  {
   "cell_type": "code",
   "execution_count": 92,
   "metadata": {},
   "outputs": [],
   "source": [
    "import sys\n",
    "import numpy as np\n",
    "from sklearn.datasets import load_digits  # Only for dataset\n",
    "\n",
    "import nnabla as nn\n",
    "import nnabla.functions as F\n",
    "import nnabla.parametric_functions as PF\n",
    "import nnabla.solvers as S\n",
    "import nnabla.initializer as I\n",
    "from nnabla.monitor import tile_images\n",
    "from nnabla.utils.data_iterator import data_iterator_simple\n",
    "\n",
    "import numpy as np\n",
    "import matplotlib.pyplot as plt\n",
    "%matplotlib inline\n",
    "\n",
    "nn.clear_parameters()\n",
    "nn.reset_array_preference()\n",
    "\n",
    "# set graph\n",
    "CNN_GRAPH = 1\n",
    "\n",
    "batch_size = 64\n",
    "h5_file_name = 'static_graph.h5'\n",
    "nnp_file_name = 'cnn_static_graph.nnp'\n",
    "nnb_file_name = 'cnn_static_graph.nnb'\n",
    "\n",
    "rng = np.random.seed(31024)\n",
    "initializer = I.UniformInitializer((-0.1, 0.1), rng=rng)\n",
    "\n",
    "imshow_opt = dict(cmap='gray', interpolation='nearest')"
   ]
  },
  {
   "cell_type": "code",
   "execution_count": 93,
   "metadata": {},
   "outputs": [],
   "source": [
    "imshow_opt = dict(cmap='gray', interpolation='nearest')\n",
    "\n",
    "def plot_stats(digits):\n",
    "    print(\"Num images:\", digits.images.shape[0])\n",
    "    print(\"Image shape:\", digits.images.shape[1:])\n",
    "    print(\"Labels:\", digits.target[:10])\n",
    "    plt.imshow(tile_images(digits.images[:batch_size, None]), **imshow_opt)\n",
    "\n",
    "\n",
    "def data_iterator_tiny_digits(digits, batch_size=batch_size, shuffle=False, rng=None):\n",
    "    def load_func(index):\n",
    "        \"\"\"Loading an image and its label\"\"\"\n",
    "        img = digits.images[index]\n",
    "        label = digits.target[index]\n",
    "        return img[None], np.array([label]).astype(np.int32)\n",
    "    return data_iterator_simple(load_func, digits.target.shape[0], batch_size, shuffle, rng, with_file_cache=False)"
   ]
  },
  {
   "cell_type": "code",
   "execution_count": 97,
   "metadata": {},
   "outputs": [
    {
     "name": "stdout",
     "output_type": "stream",
     "text": [
      "<class 'sklearn.utils.Bunch'>\n",
      "Num images: 1797\n",
      "Image shape: (8, 8)\n",
      "Labels: [0 1 2 3 4 5 6 7 8 9]\n"
     ]
    },
    {
     "data": {
      "image/png": "[encoded data removed]",
      "text/plain": [
       "<Figure size 432x288 with 1 Axes>"
      ]
     },
     "metadata": {
      "needs_background": "light"
     },
     "output_type": "display_data"
    }
   ],
   "source": [
    "# get dataset\n",
    "digits = load_digits(n_class=10)\n",
    "print(type(digits))\n",
    "plot_stats(digits)"
   ]
  },
  {
   "cell_type": "code",
   "execution_count": 73,
   "metadata": {},
   "outputs": [
    {
     "name": "stderr",
     "output_type": "stream",
     "text": [
      "2020-04-20 10:31:54,371 [nnabla][INFO]: DataSource with shuffle(True)\n",
      "2020-04-20 10:31:54,374 [nnabla][INFO]: Using DataSourceWithMemoryCache\n",
      "2020-04-20 10:31:54,374 [nnabla][INFO]: DataSource with shuffle(True)\n",
      "2020-04-20 10:31:54,375 [nnabla][INFO]: On-memory\n",
      "2020-04-20 10:31:54,376 [nnabla][INFO]: Using DataIterator\n"
     ]
    },
    {
     "name": "stdout",
     "output_type": "stream",
     "text": [
      "labels: [[5 9 7 4 5 7 0 8]\n",
      " [1 6 1 7 4 5 8 8]\n",
      " [3 3 1 7 1 6 7 9]\n",
      " [7 1 3 6 3 6 6 3]\n",
      " [7 8 0 1 5 5 4 6]\n",
      " [0 5 5 0 8 9 7 8]\n",
      " [3 9 8 5 9 7 4 6]\n",
      " [8 2 7 6 7 2 3 6]]\n",
      "Label shape: (64, 1)\n"
     ]
    },
    {
     "data": {
      "image/png": "[encoded data removed]",
      "text/plain": [
       "<Figure size 432x288 with 1 Axes>"
      ]
     },
     "metadata": {
      "needs_background": "light"
     },
     "output_type": "display_data"
    }
   ],
   "source": [
    "data = data_iterator_tiny_digits(digits, batch_size=batch_size, shuffle=True)\n",
    "img, label = data.next()\n",
    "plt.imshow(tile_images(img), **imshow_opt)\n",
    "print(\"labels:\", label.reshape(8, 8))\n",
    "print(\"Label shape:\", label.shape)"
   ]
  },
  {
   "cell_type": "markdown",
   "metadata": {},
   "source": [
    "### build a graph\n",
    "> Note: we have to run only one section:\n",
    "    - build simple graph\n",
    "    - build more complex graph"
   ]
  },
  {
   "cell_type": "markdown",
   "metadata": {},
   "source": [
    "#### build simple graph"
   ]
  },
  {
   "cell_type": "code",
   "execution_count": 74,
   "metadata": {
    "scrolled": true
   },
   "outputs": [],
   "source": [
    "if CNN_GRAPH == 0:\n",
    "    # Forward pass\n",
    "    x = nn.Variable(img.shape)  # Define an image variable\n",
    "    with nn.parameter_scope(\"affine1\"):\n",
    "        y = PF.affine(x, 10)  # Output is 10 class\n",
    "\n",
    "    # Building a loss graph\n",
    "    t = nn.Variable(label.shape)  # Define an target variable\n",
    "    loss = F.mean(F.softmax_cross_entropy(y, t))  # Softmax Xentropy fits multi-class classification problems\n",
    "\n",
    "    print(\"Printing shapes of variables\")\n",
    "    print('x:', x.shape)\n",
    "    print('y:', y.shape)\n",
    "    print('t:', t.shape)\n",
    "    print('loss:', loss.shape)  # empty tuple means scalar"
   ]
  },
  {
   "cell_type": "markdown",
   "metadata": {},
   "source": [
    "#### build more complex graph"
   ]
  },
  {
   "cell_type": "code",
   "execution_count": 75,
   "metadata": {
    "scrolled": true
   },
   "outputs": [
    {
     "name": "stdout",
     "output_type": "stream",
     "text": [
      "Printing shapes of variables\n",
      "x: (64, 1, 8, 8)\n",
      "y0: (64, 64, 4, 4)\n",
      "y1: (64, 64, 4, 4)\n",
      "y: (64, 10)\n",
      "t: (64, 1)\n",
      "loss: ()\n"
     ]
    }
   ],
   "source": [
    "if CNN_GRAPH == 1:\n",
    "    # Forward pass\n",
    "    x = nn.Variable(img.shape)  # Define an image variable\n",
    "    with nn.parameter_scope(\"affine1\"):\n",
    "        y0 = PF.convolution(x, outmaps=batch_size, kernel=(3, 3), pad=(1, 1), stride=(2, 2), w_init=initializer, name=\"conv1\", with_bias=False)\n",
    "        y1 = F.relu(y0)\n",
    "        # since the image is already too small, pooling does not make sense\n",
    "        # y2 = F.max_pooling(y1, kernel=y1.shape[2:])\n",
    "        y = PF.affine(y1, 10)  # Output is 10 class\n",
    "\n",
    "    # Building a loss graph\n",
    "    t = nn.Variable(label.shape)  # Define an target variable\n",
    "    loss = F.mean(F.softmax_cross_entropy(y, t))  # Softmax Xentropy fits multi-class classification problems\n",
    "\n",
    "    print(\"Printing shapes of variables\")\n",
    "    print('x:', x.shape)\n",
    "    print('y0:', y0.shape)\n",
    "    print('y1:', y1.shape)\n",
    "    print('y:', y.shape)\n",
    "    print('t:', t.shape)\n",
    "    print('loss:', loss.shape)  # empty tuple means scalar"
   ]
  },
  {
   "cell_type": "markdown",
   "metadata": {},
   "source": [
    "### Stochastic Gradient Solver"
   ]
  },
  {
   "cell_type": "code",
   "execution_count": 76,
   "metadata": {},
   "outputs": [],
   "source": [
    "# Create a solver (gradient-based optimizer)\n",
    "learning_rate = 1e-3\n",
    "solver = S.Sgd(learning_rate)\n",
    "solver.set_parameters(nn.get_parameters())  # Set parameter variables to be updated."
   ]
  },
  {
   "cell_type": "markdown",
   "metadata": {},
   "source": [
    "### training"
   ]
  },
  {
   "cell_type": "code",
   "execution_count": 77,
   "metadata": {},
   "outputs": [],
   "source": [
    "# Training\n",
    "n_epochs = 1000\n",
    "total_epochs = 0"
   ]
  },
  {
   "cell_type": "code",
   "execution_count": 78,
   "metadata": {
    "scrolled": true
   },
   "outputs": [
    {
     "name": "stdout",
     "output_type": "stream",
     "text": [
      "epoch=100 loss=1.447718\n",
      "epoch=200 loss=0.910468\n",
      "epoch=300 loss=0.521323\n",
      "epoch=400 loss=0.524925\n",
      "epoch=500 loss=0.375095\n",
      "epoch=600 loss=0.316382\n",
      "epoch=700 loss=0.337095\n",
      "epoch=800 loss=0.348960\n",
      "epoch=900 loss=0.376838\n",
      "epoch=1000 loss=0.125460\n"
     ]
    }
   ],
   "source": [
    "for _ in range(n_epochs):\n",
    "    x.d, t.d = data.next()\n",
    "    loss.forward()\n",
    "    solver.zero_grad()  # Initialize gradients of all parameters to zero.\n",
    "    loss.backward()\n",
    "    solver.weight_decay(1e-5)  # Applying weight decay as an regularization\n",
    "    solver.update()\n",
    "    total_epochs = total_epochs + 1\n",
    "    if total_epochs % 100 == 0:  # Print for each 10 iterations\n",
    "        print('epoch=%d loss=%f' % (total_epochs, loss.d))"
   ]
  },
  {
   "cell_type": "code",
   "execution_count": 79,
   "metadata": {},
   "outputs": [
    {
     "name": "stdout",
     "output_type": "stream",
     "text": [
      "prediction:\n",
      "[[8 9 5 0 5 0 3 0]\n",
      " [2 1 7 5 5 2 4 5]\n",
      " [3 1 5 1 6 8 7 3]\n",
      " [5 0 5 9 9 1 0 1]\n",
      " [0 0 1 1 6 6 5 9]\n",
      " [4 5 3 9 1 6 3 0]\n",
      " [0 8 5 2 1 7 2 6]\n",
      " [4 4 6 4 8 8 3 7]]\n"
     ]
    },
    {
     "data": {
      "image/png": "[encoded data removed]",
      "text/plain": [
       "<Figure size 432x288 with 1 Axes>"
      ]
     },
     "metadata": {
      "needs_background": "light"
     },
     "output_type": "display_data"
    }
   ],
   "source": [
    "# prediction\n",
    "x.d, t.d = data.next()  # Here we predict images from training set although it's useless. \n",
    "y.forward()  # You can execute a sub graph.\n",
    "plt.imshow(tile_images(x.d), **imshow_opt)\n",
    "print(\"prediction:\")\n",
    "print(y.d.argmax(axis=1).reshape(8, 8))  # Taking a class index based on prediction score."
   ]
  },
  {
   "cell_type": "markdown",
   "metadata": {},
   "source": [
    "### save model"
   ]
  },
  {
   "cell_type": "code",
   "execution_count": 80,
   "metadata": {},
   "outputs": [],
   "source": [
    "def save_nnp(input, output, batchsize):\n",
    "    runtime_contents = {\n",
    "        'networks': [\n",
    "            {'name': 'Validation',\n",
    "             'batch_size': batchsize,\n",
    "             'outputs': output,\n",
    "             'names': input}],\n",
    "        'executors': [\n",
    "            {'name': 'Runtime',\n",
    "             'network': 'Validation',\n",
    "             'data': [k for k, _ in input.items()],\n",
    "             'output':[k for k, _ in output.items()]}]}\n",
    "    return runtime_contents"
   ]
  },
  {
   "cell_type": "code",
   "execution_count": 81,
   "metadata": {},
   "outputs": [
    {
     "name": "stderr",
     "output_type": "stream",
     "text": [
      "2020-04-20 10:31:57,871 [nnabla][INFO]: Parameter save (.h5): static_graph.h5\n"
     ]
    }
   ],
   "source": [
    "# save parameters\n",
    "nn.save_parameters(h5_file_name)"
   ]
  },
  {
   "cell_type": "code",
   "execution_count": 82,
   "metadata": {},
   "outputs": [
    {
     "name": "stdout",
     "output_type": "stream",
     "text": [
      "{'networks': [{'name': 'Validation', 'batch_size': 64, 'outputs': {'y': <Variable((64, 10), need_grad=True) at 0x7face6d26548>, 'y0': <Variable((64, 64, 4, 4), need_grad=True) at 0x7facea486598>, 'y1': <Variable((64, 64, 4, 4), need_grad=True) at 0x7facea48c458>, 'loss': <Variable((), need_grad=True) at 0x7facea3cf2c8>, 't': <Variable((64, 1), need_grad=False) at 0x7face744fcc8>}, 'names': {'x': <Variable((64, 1, 8, 8), need_grad=False) at 0x7face744f778>}}], 'executors': [{'name': 'Runtime', 'network': 'Validation', 'data': ['x'], 'output': ['y', 'y0', 'y1', 'loss', 't']}]}\n"
     ]
    }
   ],
   "source": [
    "img = nn.Variable(x.shape)\n",
    "lab = nn.Variable(t.shape)\n",
    "img.d, lab.d = data.next()\n",
    "if CNN_GRAPH == 0:\n",
    "    content = save_nnp(input={'x': x}, output={'y': y, 'loss': loss, 't': t}, batchsize=batch_size)\n",
    "elif CNN_GRAPH == 1:\n",
    "    content = save_nnp(input={'x': x}, output={'y': y, 'y0': y0, 'y1': y1, 'loss': loss, 't': t}, batchsize=batch_size)\n",
    "print(content)"
   ]
  },
  {
   "cell_type": "code",
   "execution_count": 83,
   "metadata": {},
   "outputs": [
    {
     "name": "stderr",
     "output_type": "stream",
     "text": [
      "2020-04-20 10:31:57,894 [nnabla][INFO]: Saving cnn_static_graph.nnp as nnp\n",
      "2020-04-20 10:31:57,895 [nnabla][INFO]: Saving /tmp/tmph7r2cnyu/network.nntxt as prototxt\n",
      "2020-04-20 10:31:57,899 [nnabla][INFO]: Parameter save (.protobuf): /tmp/tmph7r2cnyu/parameter.protobuf\n"
     ]
    }
   ],
   "source": [
    "import nnabla.utils.save as save\n",
    "save.save(nnp_file_name, content)"
   ]
  },
  {
   "cell_type": "markdown",
   "metadata": {},
   "source": [
    "### load model"
   ]
  },
  {
   "cell_type": "code",
   "execution_count": 84,
   "metadata": {},
   "outputs": [],
   "source": [
    "from nnabla.utils.nnp_graph import NnpLoader\n",
    "\n",
    "# load h5\n",
    "nn.load_parameters(h5_file_name)\n",
    "# Read a .nnp file.\n",
    "nnp = NnpLoader(nnp_file_name)"
   ]
  },
  {
   "cell_type": "code",
   "execution_count": 85,
   "metadata": {},
   "outputs": [],
   "source": [
    "nw_name = nnp.get_network_names()[0]\n",
    "net = nnp.get_network(nw_name)"
   ]
  },
  {
   "cell_type": "code",
   "execution_count": 86,
   "metadata": {},
   "outputs": [
    {
     "data": {
      "text/plain": [
       "{'x': <Variable((64, 1, 8, 8), need_grad=False) at 0x7face6c370e8>,\n",
       " 'affine1/conv1/conv/W': <Variable((64, 1, 3, 3), need_grad=True) at 0x7face6c32188>,\n",
       " 'y0': <Variable((64, 64, 4, 4), need_grad=True) at 0x7face6c320e8>,\n",
       " 'y1': <Variable((64, 64, 4, 4), need_grad=True) at 0x7face6c32048>,\n",
       " 'affine1/affine/W': <Variable((1024, 10), need_grad=True) at 0x7face6c32098>,\n",
       " 'affine1/affine/b': <Variable((10,), need_grad=True) at 0x7facea249868>,\n",
       " 'y': <Variable((64, 10), need_grad=True) at 0x7facea327908>,\n",
       " 't': <Variable((64, 1), need_grad=False) at 0x7facea284db8>,\n",
       " 'SoftmaxCrossEntropy_Output': <Variable((64, 1), need_grad=True) at 0x7facea249638>,\n",
       " 'loss': <Variable((), need_grad=True) at 0x7facea2491d8>}"
      ]
     },
     "execution_count": 86,
     "metadata": {},
     "output_type": "execute_result"
    }
   ],
   "source": [
    "net.variables"
   ]
  },
  {
   "cell_type": "code",
   "execution_count": 87,
   "metadata": {},
   "outputs": [
    {
     "name": "stdout",
     "output_type": "stream",
     "text": [
      "nw_name = Validation\n",
      "<nnabla.utils.nnp_graph.NnpNetwork object at 0x7face71f3940>\n"
     ]
    }
   ],
   "source": [
    "nw_name = nnp.get_network_names()[0]\n",
    "print('nw_name = %s' % nw_name)\n",
    "net = nnp.get_network(nw_name)\n",
    "print(net)\n",
    "# load h5\n",
    "nn.load_parameters(h5_file_name)"
   ]
  },
  {
   "cell_type": "code",
   "execution_count": 88,
   "metadata": {},
   "outputs": [
    {
     "name": "stdout",
     "output_type": "stream",
     "text": [
      "{'x': <Variable((64, 1, 8, 8), need_grad=False) at 0x7facea249778>, 't': <Variable((64, 1), need_grad=False) at 0x7facea249728>}\n",
      "{'loss': <Variable((), need_grad=True) at 0x7face71eb1d8>}\n"
     ]
    }
   ],
   "source": [
    "print(net.inputs)\n",
    "print(net.outputs)"
   ]
  },
  {
   "cell_type": "code",
   "execution_count": 89,
   "metadata": {},
   "outputs": [
    {
     "ename": "KeyError",
     "evalue": "'y'",
     "output_type": "error",
     "traceback": [
      "\u001b[0;31m---------------------------------------------------------------------------\u001b[0m",
      "\u001b[0;31mKeyError\u001b[0m                                  Traceback (most recent call last)",
      "\u001b[0;32m<ipython-input-89-c51168fee56a>\u001b[0m in \u001b[0;36m<module>\u001b[0;34m\u001b[0m\n\u001b[1;32m      1\u001b[0m \u001b[0mx\u001b[0m \u001b[0;34m=\u001b[0m \u001b[0mnet\u001b[0m\u001b[0;34m.\u001b[0m\u001b[0minputs\u001b[0m\u001b[0;34m[\u001b[0m\u001b[0;34m'x'\u001b[0m\u001b[0;34m]\u001b[0m\u001b[0;34m\u001b[0m\u001b[0;34m\u001b[0m\u001b[0m\n\u001b[0;32m----> 2\u001b[0;31m \u001b[0my\u001b[0m \u001b[0;34m=\u001b[0m \u001b[0mnet\u001b[0m\u001b[0;34m.\u001b[0m\u001b[0moutputs\u001b[0m\u001b[0;34m[\u001b[0m\u001b[0;34m'y'\u001b[0m\u001b[0;34m]\u001b[0m\u001b[0;34m\u001b[0m\u001b[0;34m\u001b[0m\u001b[0m\n\u001b[0m\u001b[1;32m      3\u001b[0m \u001b[0mprint\u001b[0m\u001b[0;34m(\u001b[0m\u001b[0mx\u001b[0m\u001b[0;34m)\u001b[0m\u001b[0;34m\u001b[0m\u001b[0;34m\u001b[0m\u001b[0m\n\u001b[1;32m      4\u001b[0m \u001b[0mprint\u001b[0m\u001b[0;34m(\u001b[0m\u001b[0my\u001b[0m\u001b[0;34m)\u001b[0m\u001b[0;34m\u001b[0m\u001b[0;34m\u001b[0m\u001b[0m\n",
      "\u001b[0;31mKeyError\u001b[0m: 'y'"
     ]
    }
   ],
   "source": [
    "x = net.inputs['x']\n",
    "y = net.outputs['y']\n",
    "print(x)\n",
    "print(y)"
   ]
  },
  {
   "cell_type": "code",
   "execution_count": 90,
   "metadata": {
    "scrolled": true
   },
   "outputs": [
    {
     "name": "stdout",
     "output_type": "stream",
     "text": [
      "data.position=1361\n",
      "prediction:\n",
      "[[8 9 5 0 5 0 3 0]\n",
      " [2 1 7 5 5 2 4 5]\n",
      " [3 1 5 1 6 8 7 3]\n",
      " [5 0 5 9 9 1 0 1]\n",
      " [0 0 1 1 6 6 5 9]\n",
      " [4 5 3 9 1 6 3 0]\n",
      " [0 8 5 2 1 7 2 6]\n",
      " [4 4 6 4 8 8 3 7]]\n"
     ]
    },
    {
     "data": {
      "image/png": "[encoded data removed]",
      "text/plain": [
       "<Figure size 432x288 with 1 Axes>"
      ]
     },
     "metadata": {
      "needs_background": "light"
     },
     "output_type": "display_data"
    }
   ],
   "source": [
    "# prediction\n",
    "print('data.position=%d' % data.position)\n",
    "x.d, _ = data.next()  # Here we predict images from training set although it's useless. \n",
    "y.forward()  # You can execute a sub graph.\n",
    "plt.imshow(tile_images(x.d), **imshow_opt)\n",
    "print(\"prediction:\")\n",
    "print(y.d.argmax(axis=1).reshape(8, 8))  # Taking a class index based on prediction score."
   ]
  },
  {
   "cell_type": "markdown",
   "metadata": {},
   "source": [
    "### File format conversion\n",
    "Convert from NNP to NNB"
   ]
  },
  {
   "cell_type": "code",
   "execution_count": 91,
   "metadata": {},
   "outputs": [],
   "source": [
    "import subprocess, sys\n",
    "out = subprocess.Popen(['nnabla_cli', 'convert', nnp_file_name, nnb_file_name])"
   ]
  },
  {
   "cell_type": "code",
   "execution_count": null,
   "metadata": {},
   "outputs": [],
   "source": []
  }
 ],
 "metadata": {
  "kernelspec": {
   "display_name": "Python 3",
   "language": "python",
   "name": "python3"
  },
  "language_info": {
   "codemirror_mode": {
    "name": "ipython",
    "version": 3
   },
   "file_extension": ".py",
   "mimetype": "text/x-python",
   "name": "python",
   "nbconvert_exporter": "python",
   "pygments_lexer": "ipython3",
   "version": "3.7.3"
  }
 },
 "nbformat": 4,
 "nbformat_minor": 2
}
