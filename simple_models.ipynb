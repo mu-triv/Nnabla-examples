{
 "cells": [
  {
   "cell_type": "markdown",
   "metadata": {},
   "source": [
    "# Single Neuron Networks"
   ]
  },
  {
   "cell_type": "code",
   "execution_count": 1,
   "metadata": {},
   "outputs": [
    {
     "name": "stderr",
     "output_type": "stream",
     "text": [
      "2020-05-05 16:46:58,601 [nnabla][INFO]: Initializing CPU extension...\n"
     ]
    }
   ],
   "source": [
    "import nnabla as nn\n",
    "import nnabla.functions as F\n",
    "import nnabla.parametric_functions as PF\n",
    "import numpy as np\n",
    "import nnabla.initializer as I\n",
    "from save_nnp import save_nnp\n",
    "\n",
    "import pprint"
   ]
  },
  {
   "cell_type": "code",
   "execution_count": 2,
   "metadata": {},
   "outputs": [],
   "source": [
    "import pathlib, os\n",
    "data_directory='./models'\n",
    "pathlib.Path(data_directory).mkdir(parents=True, exist_ok=True) "
   ]
  },
  {
   "cell_type": "markdown",
   "metadata": {},
   "source": [
    "## Affine"
   ]
  },
  {
   "cell_type": "code",
   "execution_count": 3,
   "metadata": {},
   "outputs": [
    {
     "name": "stdout",
     "output_type": "stream",
     "text": [
      "OrderedDict([('affine/W',\n",
      "              <Variable((5, 1), need_grad=True) at 0x7fac590e7c50>)])\n",
      "array([[-0.06689208],\n",
      "       [ 0.01002087],\n",
      "       [ 0.07217436],\n",
      "       [ 0.02358674],\n",
      "       [ 0.08924928]])\n",
      "array([[-1. , -0.6, -0.2,  0.2,  0.6]])\n"
     ]
    }
   ],
   "source": [
    "nn.parameter.clear_parameters()\n",
    "rng = np.random.seed(2345)\n",
    "initializer = I.UniformInitializer((-0.1, 0.1), rng=rng)\n",
    "\n",
    "x_size = 5\n",
    "x_range = (-1.0, 1.0)\n",
    "\n",
    "x = nn.Variable((1, x_size))          # input tensor is just a vector of x_size floats\n",
    "y = PF.affine(x, 1, w_init=initializer, with_bias=False)\n",
    "\n",
    "pprint.pprint(nn.get_parameters())\n",
    "pprint.pprint(nn.get_parameters()['affine/W'].d)\n",
    "\n",
    "# generate data in the x_range\n",
    "x.d = np.arange(x_range[0], x_range[1], (x_range[1]-x_range[0])/x_size)\n",
    "pprint.pprint(x.d)\n",
    "\n",
    "# forward pass\n",
    "y.forward()"
   ]
  },
  {
   "cell_type": "code",
   "execution_count": 4,
   "metadata": {},
   "outputs": [
    {
     "name": "stdout",
     "output_type": "stream",
     "text": [
      "array([[0.10471159]], dtype=float32)\n"
     ]
    }
   ],
   "source": [
    "pprint.pprint(y.d)"
   ]
  },
  {
   "cell_type": "code",
   "execution_count": 5,
   "metadata": {},
   "outputs": [
    {
     "name": "stderr",
     "output_type": "stream",
     "text": [
      "2020-05-05 16:46:58,868 [nnabla][INFO]: Saving ./models/simple_model_affine.nnp as nnp\n",
      "2020-05-05 16:46:58,869 [nnabla][INFO]: Saving /tmp/tmpwk_htgsh/network.nntxt as prototxt\n",
      "2020-05-05 16:46:58,871 [nnabla][INFO]: Parameter save (.protobuf): /tmp/tmpwk_htgsh/parameter.protobuf\n"
     ]
    },
    {
     "name": "stdout",
     "output_type": "stream",
     "text": [
      "{'networks': [{'name': 'simple_model_affine', 'batch_size': 1, 'outputs': {'y': <Variable((1, 1), need_grad=True) at 0x7fac2e96d290>}, 'names': {'x': <Variable((1, 5), need_grad=False) at 0x7fac40027a10>}}], 'executors': [{'name': 'Runtime', 'network': 'simple_model_affine', 'data': ['x'], 'output': ['y']}]}\n"
     ]
    }
   ],
   "source": [
    "simple_model_affine = 'simple_model_affine'\n",
    "nnp_file_name = os.path.join(data_directory, '%s.nnp' % simple_model_affine)\n",
    "batch_size = 1\n",
    "content = save_nnp(nnp_file_name, nn_name=simple_model_affine, input={'x': x}, output={'y': y}, batchsize=batch_size)\n",
    "print(content)"
   ]
  },
  {
   "cell_type": "markdown",
   "metadata": {},
   "source": [
    "## RELU"
   ]
  },
  {
   "cell_type": "code",
   "execution_count": 6,
   "metadata": {},
   "outputs": [
    {
     "name": "stdout",
     "output_type": "stream",
     "text": [
      "OrderedDict([('affine/W',\n",
      "              <Variable((5, 1), need_grad=True) at 0x7fac2e80d050>)])\n",
      "array([[ 0.01217159],\n",
      "       [ 0.0739175 ],\n",
      "       [-0.06551991],\n",
      "       [-0.00955659],\n",
      "       [ 0.00522653]])\n",
      "array([[-1. , -0.6, -0.2,  0.2,  0.6]])\n"
     ]
    }
   ],
   "source": [
    "nn.parameter.clear_parameters()\n",
    "rng = np.random.seed(11579)\n",
    "initializer = I.UniformInitializer((-0.1, 0.1), rng=rng)\n",
    "\n",
    "x_size = 5\n",
    "x_range = (-1.0, 1.0)\n",
    "\n",
    "x = nn.Variable((1, x_size))          # input tensor is just a vector of x_size floats\n",
    "y0 = PF.affine(x, 1, w_init=initializer, with_bias=False)\n",
    "y = F.relu(y0)   # output is probs for 3 classes\n",
    "\n",
    "pprint.pprint(nn.get_parameters())\n",
    "pprint.pprint(nn.get_parameters()['affine/W'].d)\n",
    "\n",
    "# generate data in the x_range\n",
    "x.d = np.arange(x_range[0], x_range[1], (x_range[1]-x_range[0])/x_size)\n",
    "pprint.pprint(x.d)\n",
    "\n",
    "# forward pass\n",
    "y.forward()"
   ]
  },
  {
   "cell_type": "code",
   "execution_count": 7,
   "metadata": {},
   "outputs": [
    {
     "name": "stdout",
     "output_type": "stream",
     "text": [
      "array([[-0.04219351]], dtype=float32)\n",
      "array([[0.]], dtype=float32)\n"
     ]
    }
   ],
   "source": [
    "pprint.pprint(y0.d)\n",
    "pprint.pprint(y.d)"
   ]
  },
  {
   "cell_type": "code",
   "execution_count": 8,
   "metadata": {
    "scrolled": true
   },
   "outputs": [
    {
     "name": "stderr",
     "output_type": "stream",
     "text": [
      "2020-05-05 16:46:58,890 [nnabla][INFO]: Saving ./models/simple_model_relu.nnp as nnp\n",
      "2020-05-05 16:46:58,891 [nnabla][INFO]: Saving /tmp/tmptrbzip4y/network.nntxt as prototxt\n",
      "2020-05-05 16:46:58,894 [nnabla][INFO]: Parameter save (.protobuf): /tmp/tmptrbzip4y/parameter.protobuf\n"
     ]
    },
    {
     "name": "stdout",
     "output_type": "stream",
     "text": [
      "{'networks': [{'name': 'simple_model_relu', 'batch_size': 1, 'outputs': {'y0': <Variable((1, 1), need_grad=True) at 0x7fac2e80d110>, 'y': <Variable((1, 1), need_grad=True) at 0x7fac2e96dfb0>}, 'names': {'x': <Variable((1, 5), need_grad=False) at 0x7fac590e7c50>}}], 'executors': [{'name': 'Runtime', 'network': 'simple_model_relu', 'data': ['x'], 'output': ['y0', 'y']}]}\n"
     ]
    }
   ],
   "source": [
    "simple_model_relu = 'simple_model_relu'\n",
    "nnp_file_name = os.path.join(data_directory, '%s.nnp' % simple_model_relu)\n",
    "batch_size = 1\n",
    "content = save_nnp(nnp_file_name, nn_name=simple_model_relu, input={'x': x}, output={'y0':y0, 'y': y}, batchsize=batch_size)\n",
    "print(content)"
   ]
  },
  {
   "cell_type": "markdown",
   "metadata": {},
   "source": [
    "## Sigmoid"
   ]
  },
  {
   "cell_type": "code",
   "execution_count": 9,
   "metadata": {},
   "outputs": [
    {
     "name": "stdout",
     "output_type": "stream",
     "text": [
      "OrderedDict([('affine/W',\n",
      "              <Variable((5, 1), need_grad=True) at 0x7fac2e96d650>)])\n",
      "array([[-0.01273317],\n",
      "       [ 0.05659582],\n",
      "       [ 0.01842164],\n",
      "       [-0.04010906],\n",
      "       [ 0.07028222]])\n",
      "array([[-1. , -0.6, -0.2,  0.2,  0.6]])\n"
     ]
    }
   ],
   "source": [
    "nn.parameter.clear_parameters()\n",
    "rng = np.random.seed(1393)\n",
    "initializer = I.UniformInitializer((-0.1, 0.1), rng=rng)\n",
    "\n",
    "x_size = 5\n",
    "x_range = (-1.0, 1.0)\n",
    "\n",
    "x = nn.Variable((1, x_size))          # input tensor is just a vector of x_size floats\n",
    "y0 = PF.affine(x, 1, w_init=initializer, with_bias=False)\n",
    "y = F.sigmoid(y0)   # output is probs for 3 classes\n",
    "\n",
    "pprint.pprint(nn.get_parameters())\n",
    "pprint.pprint(nn.get_parameters()['affine/W'].d)\n",
    "\n",
    "# generate data in the x_range\n",
    "x.d = np.arange(x_range[0], x_range[1], (x_range[1]-x_range[0])/x_size)\n",
    "pprint.pprint(x.d)\n",
    "\n",
    "# forward pass\n",
    "y.forward()"
   ]
  },
  {
   "cell_type": "code",
   "execution_count": 10,
   "metadata": {},
   "outputs": [
    {
     "name": "stdout",
     "output_type": "stream",
     "text": [
      "array([[0.00923887]], dtype=float32)\n",
      "array([[0.5023097]], dtype=float32)\n"
     ]
    }
   ],
   "source": [
    "pprint.pprint(y0.d)\n",
    "pprint.pprint(y.d)"
   ]
  },
  {
   "cell_type": "code",
   "execution_count": 11,
   "metadata": {
    "scrolled": false
   },
   "outputs": [
    {
     "name": "stderr",
     "output_type": "stream",
     "text": [
      "2020-05-05 16:46:58,920 [nnabla][INFO]: Saving ./models/simple_model_sigmoid.nnp as nnp\n",
      "2020-05-05 16:46:58,924 [nnabla][INFO]: Saving /tmp/tmp3satvhie/network.nntxt as prototxt\n",
      "2020-05-05 16:46:58,928 [nnabla][INFO]: Parameter save (.protobuf): /tmp/tmp3satvhie/parameter.protobuf\n"
     ]
    },
    {
     "name": "stdout",
     "output_type": "stream",
     "text": [
      "{'networks': [{'name': 'simple_model_sigmoid', 'batch_size': 1, 'outputs': {'y0': <Variable((1, 1), need_grad=True) at 0x7fac2e944fb0>, 'y': <Variable((1, 1), need_grad=True) at 0x7fac2e96d6b0>}, 'names': {'x': <Variable((1, 5), need_grad=False) at 0x7fac2e96dad0>}}], 'executors': [{'name': 'Runtime', 'network': 'simple_model_sigmoid', 'data': ['x'], 'output': ['y0', 'y']}]}\n"
     ]
    }
   ],
   "source": [
    "simple_model_sigmoid = 'simple_model_sigmoid'\n",
    "nnp_file_name = os.path.join(data_directory, '%s.nnp' % simple_model_sigmoid)\n",
    "batch_size = 1\n",
    "content = save_nnp(nnp_file_name, nn_name=simple_model_sigmoid, input={'x': x}, output={'y0': y0, 'y': y}, batchsize=batch_size)\n",
    "print(content)"
   ]
  },
  {
   "cell_type": "markdown",
   "metadata": {},
   "source": [
    "## Tanh"
   ]
  },
  {
   "cell_type": "code",
   "execution_count": 12,
   "metadata": {},
   "outputs": [
    {
     "name": "stdout",
     "output_type": "stream",
     "text": [
      "OrderedDict([('affine/W',\n",
      "              <Variable((5, 1), need_grad=True) at 0x7fac2e821170>)])\n",
      "array([[-0.08689096],\n",
      "       [ 0.00578396],\n",
      "       [-0.08795961],\n",
      "       [ 0.05258294],\n",
      "       [ 0.01774052]])\n",
      "array([[-1. , -0.6, -0.2,  0.2,  0.6]])\n"
     ]
    }
   ],
   "source": [
    "nn.parameter.clear_parameters()\n",
    "rng = np.random.seed(8853)\n",
    "initializer = I.UniformInitializer((-0.1, 0.1), rng=rng)\n",
    "\n",
    "x_size = 5\n",
    "x_range = (-1.0, 1.0)\n",
    "\n",
    "x = nn.Variable((1, x_size))          # input tensor is just a vector of x_size floats\n",
    "y0 = PF.affine(x, 1, w_init=initializer, with_bias=False)\n",
    "y = F.tanh(y0)   # output is probs for 3 classes\n",
    "\n",
    "pprint.pprint(nn.get_parameters())\n",
    "pprint.pprint(nn.get_parameters()['affine/W'].d)\n",
    "\n",
    "# generate data in the x_range\n",
    "x.d = np.arange(x_range[0], x_range[1], (x_range[1]-x_range[0])/x_size)\n",
    "pprint.pprint(x.d)\n",
    "\n",
    "# forward pass\n",
    "y.forward()"
   ]
  },
  {
   "cell_type": "code",
   "execution_count": 13,
   "metadata": {},
   "outputs": [
    {
     "name": "stdout",
     "output_type": "stream",
     "text": [
      "array([[0.1221734]], dtype=float32)\n",
      "array([[0.12156913]], dtype=float32)\n"
     ]
    }
   ],
   "source": [
    "pprint.pprint(y0.d)\n",
    "pprint.pprint(y.d)"
   ]
  },
  {
   "cell_type": "code",
   "execution_count": 14,
   "metadata": {
    "scrolled": false
   },
   "outputs": [
    {
     "name": "stderr",
     "output_type": "stream",
     "text": [
      "2020-05-05 16:46:58,958 [nnabla][INFO]: Saving ./models/simple_model_tanh.nnp as nnp\n",
      "2020-05-05 16:46:58,962 [nnabla][INFO]: Saving /tmp/tmpprr7z4et/network.nntxt as prototxt\n",
      "2020-05-05 16:46:58,965 [nnabla][INFO]: Parameter save (.protobuf): /tmp/tmpprr7z4et/parameter.protobuf\n"
     ]
    },
    {
     "name": "stdout",
     "output_type": "stream",
     "text": [
      "{'networks': [{'name': 'simple_model_tanh', 'batch_size': 1, 'outputs': {'y0': <Variable((1, 1), need_grad=True) at 0x7fac2e821110>, 'y': <Variable((1, 1), need_grad=True) at 0x7fac2e80de90>}, 'names': {'x': <Variable((1, 5), need_grad=False) at 0x7fac2e96d650>}}], 'executors': [{'name': 'Runtime', 'network': 'simple_model_tanh', 'data': ['x'], 'output': ['y0', 'y']}]}\n"
     ]
    }
   ],
   "source": [
    "simple_model_tanh = 'simple_model_tanh'\n",
    "nnp_file_name = os.path.join(data_directory, '%s.nnp' % simple_model_tanh)\n",
    "batch_size = 1\n",
    "content = save_nnp(nnp_file_name, nn_name=simple_model_tanh, input={'x': x}, output={'y0': y0, 'y': y}, batchsize=batch_size)\n",
    "print(content)"
   ]
  },
  {
   "cell_type": "markdown",
   "metadata": {},
   "source": [
    "## SoftMax"
   ]
  },
  {
   "cell_type": "code",
   "execution_count": 15,
   "metadata": {},
   "outputs": [
    {
     "name": "stdout",
     "output_type": "stream",
     "text": [
      "OrderedDict([('affine/W',\n",
      "              <Variable((5, 1), need_grad=True) at 0x7fac2e80dbf0>)])\n",
      "array([[-0.00840704],\n",
      "       [-0.02306222],\n",
      "       [-0.04123034],\n",
      "       [-0.06403097],\n",
      "       [ 0.02346617]])\n",
      "array([[-1. , -0.6, -0.2,  0.2,  0.6]])\n"
     ]
    }
   ],
   "source": [
    "nn.parameter.clear_parameters()\n",
    "rng = np.random.seed(63452)\n",
    "initializer = I.UniformInitializer((-0.1, 0.1), rng=rng)\n",
    "\n",
    "x_size = 5\n",
    "x_range = (-1.0, 1.0)\n",
    "\n",
    "x = nn.Variable((1, x_size))          # input tensor is just a vector of 5 floats\n",
    "y0 = PF.affine(x, 1, w_init=initializer, with_bias=False)\n",
    "y = F.softmax(y0)   # output is probs for 3 classes\n",
    "\n",
    "pprint.pprint(nn.get_parameters())\n",
    "pprint.pprint(nn.get_parameters()['affine/W'].d)\n",
    "\n",
    "# generate data in the x_range\n",
    "x.d = np.arange(x_range[0], x_range[1], (x_range[1]-x_range[0])/x_size)\n",
    "pprint.pprint(x.d)\n",
    "\n",
    "# forward pass\n",
    "y.forward()"
   ]
  },
  {
   "cell_type": "code",
   "execution_count": 16,
   "metadata": {},
   "outputs": [
    {
     "name": "stdout",
     "output_type": "stream",
     "text": [
      "array([[0.03176394]], dtype=float32)\n",
      "array([[1.]], dtype=float32)\n"
     ]
    }
   ],
   "source": [
    "pprint.pprint(y0.d)\n",
    "pprint.pprint(y.d)"
   ]
  },
  {
   "cell_type": "code",
   "execution_count": 17,
   "metadata": {
    "scrolled": false
   },
   "outputs": [
    {
     "name": "stderr",
     "output_type": "stream",
     "text": [
      "2020-05-05 16:46:58,988 [nnabla][INFO]: Saving ./models/simple_model_softmax.nnp as nnp\n",
      "2020-05-05 16:46:58,990 [nnabla][INFO]: Saving /tmp/tmpuycczmaf/network.nntxt as prototxt\n",
      "2020-05-05 16:46:58,994 [nnabla][INFO]: Parameter save (.protobuf): /tmp/tmpuycczmaf/parameter.protobuf\n"
     ]
    },
    {
     "name": "stdout",
     "output_type": "stream",
     "text": [
      "{'networks': [{'name': 'simple_model_softmax', 'batch_size': 1, 'outputs': {'y0': <Variable((1, 1), need_grad=True) at 0x7fac2e80dd70>, 'y': <Variable((1, 1), need_grad=True) at 0x7fac2e80dcb0>}, 'names': {'x': <Variable((1, 5), need_grad=False) at 0x7fac2e80df50>}}], 'executors': [{'name': 'Runtime', 'network': 'simple_model_softmax', 'data': ['x'], 'output': ['y0', 'y']}]}\n"
     ]
    }
   ],
   "source": [
    "simple_model_softmax = 'simple_model_softmax'\n",
    "nnp_file_name = os.path.join(data_directory, '%s.nnp' % simple_model_softmax)\n",
    "batch_size = 1\n",
    "content = save_nnp(nnp_file_name, nn_name=simple_model_softmax, input={'x': x}, output={'y0': y0, 'y': y}, batchsize=batch_size)\n",
    "print(content)"
   ]
  },
  {
   "cell_type": "markdown",
   "metadata": {},
   "source": [
    "# Convert models"
   ]
  },
  {
   "cell_type": "markdown",
   "metadata": {},
   "source": [
    "## Convert NNP to NNB"
   ]
  },
  {
   "cell_type": "code",
   "execution_count": 18,
   "metadata": {},
   "outputs": [],
   "source": [
    "# Convert from NNP to NNB\n",
    "import subprocess, time\n",
    "\n",
    "models = [\n",
    "    simple_model_affine,\n",
    "    simple_model_relu,\n",
    "    simple_model_sigmoid, \n",
    "    simple_model_tanh,\n",
    "    simple_model_softmax\n",
    "]\n",
    "\n",
    "# file format conversion\n",
    "for model_name in models:\n",
    "    nnp_fname = os.path.join(data_directory, '%s.nnp' % model_name)\n",
    "    nnb_fname = os.path.join(data_directory, '%s.nnb' % model_name)\n",
    "    out = subprocess.Popen(['nnabla_cli', 'convert', '-b', '%d' % batch_size, nnp_fname, nnb_fname])\n",
    "\n",
    "time.sleep(5)\n",
    "\n",
    "# verification\n",
    "for model_name in models:\n",
    "    nnp_fname = os.path.join(data_directory, '%s.nnp' % model_name)\n",
    "    nnb_fname = os.path.join(data_directory, '%s.nnb' % model_name)\n",
    "    assert(os.path.exists(nnb_fname))\n",
    "    assert(os.path.isfile(nnb_fname))    "
   ]
  },
  {
   "cell_type": "markdown",
   "metadata": {},
   "source": [
    "## Convert NNB to C-style\n",
    "This conversion uses the bin2array https://github.com/Jamesits/bin2array"
   ]
  },
  {
   "cell_type": "code",
   "execution_count": 19,
   "metadata": {},
   "outputs": [],
   "source": [
    "# file format conversion\n",
    "for model_name in models:\n",
    "    nnb_fname = os.path.join(data_directory, '%s.nnb' % model_name)\n",
    "    c_header_fname = os.path.join(data_directory, '%s.h' % model_name)\n",
    "    out = subprocess.Popen(['python3', 'bin2array/bin2array.py', '-O', c_header_fname, nnb_fname])\n",
    "\n",
    "time.sleep(5)\n",
    "    \n",
    "# verification\n",
    "for model_name in models:\n",
    "    c_header_fname = os.path.join(data_directory, '%s.h' % model_name)\n",
    "    assert(os.path.exists(c_header_fname))\n",
    "    assert(os.path.isfile(c_header_fname))        "
   ]
  },
  {
   "cell_type": "code",
   "execution_count": null,
   "metadata": {},
   "outputs": [],
   "source": []
  }
 ],
 "metadata": {
  "kernelspec": {
   "display_name": "Python 3",
   "language": "python",
   "name": "python3"
  },
  "language_info": {
   "codemirror_mode": {
    "name": "ipython",
    "version": 3
   },
   "file_extension": ".py",
   "mimetype": "text/x-python",
   "name": "python",
   "nbconvert_exporter": "python",
   "pygments_lexer": "ipython3",
   "version": "3.7.5"
  }
 },
 "nbformat": 4,
 "nbformat_minor": 4
}
